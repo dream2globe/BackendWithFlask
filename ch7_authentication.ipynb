{
 "nbformat": 4,
 "nbformat_minor": 2,
 "metadata": {
  "language_info": {
   "name": "python",
   "codemirror_mode": {
    "name": "ipython",
    "version": 3
   },
   "version": "3.7.6-final"
  },
  "orig_nbformat": 2,
  "file_extension": ".py",
  "mimetype": "text/x-python",
  "name": "python",
  "npconvert_exporter": "python",
  "pygments_lexer": "ipython3",
  "version": 3,
  "kernelspec": {
   "name": "python37664bitf5e5fb776bbe47b998cbae54a0ba02d0",
   "display_name": "Python 3.7.6 64-bit"
  }
 },
 "cells": [
  {
   "cell_type": "code",
   "execution_count": 3,
   "metadata": {},
   "outputs": [
    {
     "output_type": "execute_result",
     "data": {
      "text/plain": "'0b47c69b1033498d5f33f5f7d97bb6a3126134751629f4d0185c115db44c094e'"
     },
     "metadata": {},
     "execution_count": 3
    }
   ],
   "source": [
    "import hashlib\n",
    "m = hashlib.sha256()\n",
    "m.update(b\"test password\")\n",
    "m.hexdigest()"
   ]
  },
  {
   "cell_type": "code",
   "execution_count": 8,
   "metadata": {},
   "outputs": [
    {
     "output_type": "stream",
     "name": "stdout",
     "text": "b'$2b$12$7Bz7H1dV1r.mWxQdoeeJhuulPYmEwNaEyHeU8dU4aPfMTGpty4anq'\n243262243132244b4f664666344f774b7a5055596656755635456b2e2e35694b574c6d6e3364623167626139316e6a427a6832783577586b43594979\n"
    }
   ],
   "source": [
    "import bcrypt\n",
    "print(bcrypt.hashpw(b\"secrete password\", bcrypt.gensalt()))\n",
    "print(bcrypt.hashpw(b\"secrete password\", bcrypt.gensalt()).hex())"
   ]
  },
  {
   "cell_type": "code",
   "execution_count": null,
   "metadata": {},
   "outputs": [],
   "source": []
  }
 ]
}