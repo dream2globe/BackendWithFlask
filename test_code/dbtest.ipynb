{
 "cells": [
  {
   "cell_type": "code",
   "execution_count": 33,
   "metadata": {},
   "outputs": [],
   "source": [
    "from sqlalchemy import create_engine, text"
   ]
  },
  {
   "cell_type": "code",
   "execution_count": 34,
   "metadata": {},
   "outputs": [],
   "source": [
    "dbcfg = {\n",
    "    \"user\": \"root\",\n",
    "    \"password\": \"9838\",\n",
    "    \"host\": \"127.0.0.1\",\n",
    "    \"port\": 3306,\n",
    "    \"database\": \"mini_twitter\",\n",
    "}\n",
    "\n",
    "DB_URL = f\"mysql+mysqldb://{dbcfg['user']}:{dbcfg['password']}@{dbcfg['host']}:{dbcfg['port']}/{dbcfg['database']}?charset=utf8\"\n",
    "db = create_engine(DB_URL, encoding=\"UTF-8\", max_overflow=0)"
   ]
  },
  {
   "cell_type": "code",
   "execution_count": 35,
   "metadata": {},
   "outputs": [
    {
     "data": {
      "text/plain": [
       "['tweets', 'users', 'users_follow_list']"
      ]
     },
     "execution_count": 35,
     "metadata": {},
     "output_type": "execute_result"
    }
   ],
   "source": [
    "db.table_names()"
   ]
  },
  {
   "cell_type": "code",
   "execution_count": 36,
   "metadata": {},
   "outputs": [
    {
     "data": {
      "text/plain": [
       "[]"
      ]
     },
     "execution_count": 36,
     "metadata": {},
     "output_type": "execute_result"
    }
   ],
   "source": [
    "answer = db.execute(\"select * from tweets\")\n",
    "answer.fetchall()"
   ]
  },
  {
   "cell_type": "code",
   "execution_count": 55,
   "metadata": {},
   "outputs": [],
   "source": [
    "query = \"\"\"\n",
    "    INSERT INTO users (\n",
    "        name, email, profile, hashed_password\n",
    "    ) VALUE (\n",
    "        :name,\n",
    "        :email,\n",
    "        :profile,\n",
    "        :password\n",
    "    )\n",
    "\"\"\"\n",
    "\n",
    "user = {'name': 'Seonghyeon Kang', 'email': 'dream2globe2@naver.com', 'password': 'pass1234', 'profile': 'Christian, Data Scientist & Enginner(maybe?)'}\n",
    "answer = db.execute(text(query), user).lastrowid"
   ]
  },
  {
   "cell_type": "code",
   "execution_count": 56,
   "metadata": {},
   "outputs": [
    {
     "data": {
      "text/plain": [
       "7"
      ]
     },
     "execution_count": 56,
     "metadata": {},
     "output_type": "execute_result"
    }
   ],
   "source": [
    "answer"
   ]
  },
  {
   "cell_type": "code",
   "execution_count": null,
   "metadata": {},
   "outputs": [],
   "source": [
    "query = \"\"\"\n",
    "        INSERT INTO tweets (\n",
    "            user_id,\n",
    "            tweet\n",
    "        ) VALUE (\n",
    "            :id,\n",
    "            :tweet\n",
    "        )\n",
    "    \"\"\"\n",
    "\n",
    "answer = db.execute(text(query), user)"
   ]
  }
 ],
 "metadata": {
  "kernelspec": {
   "display_name": "Python 3",
   "language": "python",
   "name": "python3"
  },
  "language_info": {
   "codemirror_mode": {
    "name": "ipython",
    "version": 3
   },
   "file_extension": ".py",
   "mimetype": "text/x-python",
   "name": "python",
   "nbconvert_exporter": "python",
   "pygments_lexer": "ipython3",
   "version": "3.7.6"
  }
 },
 "nbformat": 4,
 "nbformat_minor": 4
}
