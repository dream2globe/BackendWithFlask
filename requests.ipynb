{
 "cells": [
  {
   "cell_type": "markdown",
   "metadata": {},
   "source": [
    "## Import packages"
   ]
  },
  {
   "cell_type": "code",
   "execution_count": 1,
   "metadata": {},
   "outputs": [
    {
     "ename": "ModuleNotFoundError",
     "evalue": "No module named 'requests'",
     "output_type": "error",
     "traceback": [
      "\u001b[0;31m\u001b[0m",
      "\u001b[0;31mModuleNotFoundError\u001b[0mTraceback (most recent call last)",
      "\u001b[0;32m<ipython-input-1-95039fbd75c1>\u001b[0m in \u001b[0;36m<module>\u001b[0;34m\u001b[0m\n\u001b[0;32m----> 1\u001b[0;31m \u001b[0;32mimport\u001b[0m \u001b[0mrequests\u001b[0m\u001b[0;34m\u001b[0m\u001b[0;34m\u001b[0m\u001b[0m\n\u001b[0m",
      "\u001b[0;31mModuleNotFoundError\u001b[0m: No module named 'requests'"
     ]
    }
   ],
   "source": [
    "import requests"
   ]
  },
  {
   "cell_type": "markdown",
   "metadata": {},
   "source": [
    "## Chapter 5"
   ]
  },
  {
   "cell_type": "code",
   "execution_count": 26,
   "metadata": {},
   "outputs": [],
   "source": [
    "\"\"\" 회원가입 \"\"\"\n",
    "\n",
    "msg = {\n",
    "    \"email\": \"sheyon.kang@gmail.com\",\n",
    "    \"name\": \"Seonghyeon Kang\",\n",
    "    \"password\": \"pass1234\",\n",
    "    \"profile\": \"Christian, Data Scientist & Enginner(maybe?)\"\n",
    "}\n",
    "\n",
    "data = requests.post('http://localhost:5000/sign-up', json=msg)\n",
    "\n",
    "msg = {\n",
    "    \"email\": \"dream2globe@naver.com\",\n",
    "    \"name\": \"Seonghyeon Kang\",\n",
    "    \"password\": \"pass1234\",\n",
    "    \"profile\": \"another account\"\n",
    "}\n",
    "\n",
    "data = requests.post('http://localhost:5000/sign-up', json=msg)"
   ]
  },
  {
   "cell_type": "code",
   "execution_count": 27,
   "metadata": {},
   "outputs": [
    {
     "name": "stdout",
     "output_type": "stream",
     "text": [
      "<PreparedRequest [POST]>\n",
      "200\n",
      "{'email': 'dream2globe@naver.com', 'id': 4, 'name': 'Seonghyeon Kang', 'password': 'pass1234', 'profile': 'another account'}\n"
     ]
    }
   ],
   "source": [
    "print(data.request)\n",
    "print(data.status_code)\n",
    "print(data.json())"
   ]
  },
  {
   "cell_type": "code",
   "execution_count": 28,
   "metadata": {},
   "outputs": [],
   "source": [
    "\"\"\" 트윗 등록 \"\"\"\n",
    "\n",
    "msg = {\n",
    "    \"id\": 1,\n",
    "    \"tweet\": \"the first tweet\"\n",
    "}\n",
    "\n",
    "data = requests.post('http://localhost:5000/tweet', json=msg)"
   ]
  },
  {
   "cell_type": "code",
   "execution_count": 29,
   "metadata": {},
   "outputs": [
    {
     "name": "stdout",
     "output_type": "stream",
     "text": [
      "200\n",
      "b'the first tweet is appended'\n"
     ]
    },
    {
     "data": {
      "text/plain": [
       "<Response [200]>"
      ]
     },
     "execution_count": 29,
     "metadata": {},
     "output_type": "execute_result"
    }
   ],
   "source": [
    "print(data.status_code)\n",
    "print(data.content)\n",
    "data"
   ]
  },
  {
   "cell_type": "code",
   "execution_count": 30,
   "metadata": {},
   "outputs": [],
   "source": [
    "\"\"\" 팔로워 등록 \"\"\"\n",
    "\n",
    "msg = {\n",
    "    \"follow\": 2,\n",
    "    \"id\": 1,\n",
    "}\n",
    "\n",
    "data = requests.post('http://localhost:5000/follow', json=msg)"
   ]
  },
  {
   "cell_type": "code",
   "execution_count": 31,
   "metadata": {},
   "outputs": [
    {
     "name": "stdout",
     "output_type": "stream",
     "text": [
      "200\n",
      "{\n",
      "  \"email\": \"sheyon.kang@gmail.com\", \n",
      "  \"follow\": [\n",
      "    2\n",
      "  ], \n",
      "  \"id\": 1, \n",
      "  \"name\": \"Seonghyeon Kang\", \n",
      "  \"password\": \"pass1234\", \n",
      "  \"profile\": \"Christian, Data Scientist & Enginner(maybe?)\"\n",
      "}\n",
      "\n"
     ]
    },
    {
     "data": {
      "text/plain": [
       "{'email': 'sheyon.kang@gmail.com',\n",
       " 'follow': [2],\n",
       " 'id': 1,\n",
       " 'name': 'Seonghyeon Kang',\n",
       " 'password': 'pass1234',\n",
       " 'profile': 'Christian, Data Scientist & Enginner(maybe?)'}"
      ]
     },
     "execution_count": 31,
     "metadata": {},
     "output_type": "execute_result"
    }
   ],
   "source": [
    "print(data.status_code)\n",
    "print((data.content).decode(\"utf-8\"))\n",
    "data.json()"
   ]
  },
  {
   "cell_type": "code",
   "execution_count": 32,
   "metadata": {},
   "outputs": [],
   "source": [
    "\"\"\" 팔로워 해체 \"\"\"\n",
    "\n",
    "msg = {\n",
    "    \"unfollow\": 3,\n",
    "    \"id\": 1,\n",
    "}\n",
    "\n",
    "data = requests.post('http://localhost:5000/unfollow', json=msg)"
   ]
  },
  {
   "cell_type": "code",
   "execution_count": 19,
   "metadata": {},
   "outputs": [
    {
     "name": "stdout",
     "output_type": "stream",
     "text": [
      "400\n",
      "팔로워가 아닙니다.\n"
     ]
    }
   ],
   "source": [
    "print(data.status_code)\n",
    "print((data.content).decode(\"utf-8\"))\n",
    "\n",
    "if data.status_code == 200:\n",
    "    print(data.json())"
   ]
  },
  {
   "cell_type": "code",
   "execution_count": 20,
   "metadata": {},
   "outputs": [],
   "source": [
    "msg = {\n",
    "    \"unfollow\": 2,\n",
    "    \"id\": 1,\n",
    "}\n",
    "\n",
    "data = requests.post('http://localhost:5000/unfollow', json=msg)"
   ]
  },
  {
   "cell_type": "code",
   "execution_count": 21,
   "metadata": {},
   "outputs": [
    {
     "name": "stdout",
     "output_type": "stream",
     "text": [
      "200\n",
      "{\n",
      "  \"email\": \"sheyon.kang@gmail.com\", \n",
      "  \"follow\": [], \n",
      "  \"id\": 1, \n",
      "  \"name\": \"Seonghyeon Kang\", \n",
      "  \"password\": \"pass1234\", \n",
      "  \"profile\": \"Christian, Data Scientist & Enginner(maybe?)\"\n",
      "}\n",
      "\n",
      "{'email': 'sheyon.kang@gmail.com', 'follow': [], 'id': 1, 'name': 'Seonghyeon Kang', 'password': 'pass1234', 'profile': 'Christian, Data Scientist & Enginner(maybe?)'}\n"
     ]
    }
   ],
   "source": [
    "print(data.status_code)\n",
    "print((data.content).decode(\"utf-8\"))\n",
    "\n",
    "if data.status_code == 200:\n",
    "    print(data.json())"
   ]
  },
  {
   "cell_type": "code",
   "execution_count": 35,
   "metadata": {},
   "outputs": [],
   "source": [
    "\"\"\" 타임라인 확인 \"\"\"\n",
    "data = requests.get('http://localhost:5000/timeline/1')"
   ]
  },
  {
   "cell_type": "code",
   "execution_count": 36,
   "metadata": {},
   "outputs": [
    {
     "name": "stdout",
     "output_type": "stream",
     "text": [
      "200\n",
      "{\n",
      "  \"timeline\": [\n",
      "    {\n",
      "      \"tweet\": \"the first tweet\", \n",
      "      \"user_id\": 1\n",
      "    }\n",
      "  ], \n",
      "  \"user_id\": 1\n",
      "}\n",
      "\n",
      "{'timeline': [{'tweet': 'the first tweet', 'user_id': 1}], 'user_id': 1}\n"
     ]
    }
   ],
   "source": [
    "print(data.status_code)\n",
    "print((data.content).decode(\"utf-8\"))\n",
    "\n",
    "if data.status_code == 200:\n",
    "    print(data.json())"
   ]
  },
  {
   "cell_type": "code",
   "execution_count": null,
   "metadata": {},
   "outputs": [],
   "source": []
  }
 ],
 "metadata": {
  "file_extension": ".py",
  "kernelspec": {
   "display_name": "Python 3",
   "language": "python",
   "name": "python3"
  },
  "language_info": {
   "codemirror_mode": {
    "name": "ipython",
    "version": 3
   },
   "file_extension": ".py",
   "mimetype": "text/x-python",
   "name": "python",
   "nbconvert_exporter": "python",
   "pygments_lexer": "ipython3",
   "version": "3.8.1"
  },
  "mimetype": "text/x-python",
  "name": "python",
  "npconvert_exporter": "python",
  "pygments_lexer": "ipython3",
  "version": 3
 },
 "nbformat": 4,
 "nbformat_minor": 4
}
