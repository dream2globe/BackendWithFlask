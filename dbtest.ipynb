{
 "cells": [
  {
   "cell_type": "code",
   "execution_count": null,
   "metadata": {},
   "outputs": [
    {
     "ename": "Error",
     "evalue": "Failed to connect to remote Jupyter notebook.\r\nCheck that the Jupyter Server URI setting has a valid running server specified.\r\nhttps://hostname:8080/\r\nr: request to https://hostname:8080/login? failed, reason: getaddrinfo ENOTFOUND hostname",
     "output_type": "error",
     "traceback": [
      "Error: Failed to connect to remote Jupyter notebook.",
      "Check that the Jupyter Server URI setting has a valid running server specified.",
      "https://hostname:8080/",
      "r: request to https://hostname:8080/login? failed, reason: getaddrinfo ENOTFOUND hostname",
      "at /home/shyeon/.vscode/extensions/ms-python.python-2020.2.64397/out/client/extension.js:1:817741",
      "at runMicrotasks (<anonymous>)",
      "at processTicksAndRejections (internal/process/task_queues.js:89:5)"
     ]
    }
   ],
   "source": [
    "from sqlalchemy import create_engine, text\n",
    "\n",
    "db = {\n",
    "    'user':'root',\n",
    "    'password':'test1234',\n",
    "    'host':'localhost',\n",
    "    'port':3306,\n",
    "    'database':'mini_twitter'\n",
    "}\n",
    "\n",
    "DB_URL = f\"mysql+mysqlconnector://{db['username']}:{db['password']}@{db['host']}:{db['port']}/{db['database']}?charset=utf8\"\n",
    "sqldb = create_engine(DB_URL, encoding='utf-8', max_overflow=0)"
   ]
  },
  {
   "cell_type": "code",
   "execution_count": null,
   "metadata": {},
   "outputs": [],
   "source": []
  }
 ],
 "metadata": {
  "file_extension": ".py",
  "kernelspec": {
   "display_name": "Python 3",
   "language": "python",
   "name": "python3"
  },
  "language_info": {
   "codemirror_mode": {
    "name": "ipython",
    "version": 3
   },
   "file_extension": ".py",
   "mimetype": "text/x-python",
   "name": "python",
   "nbconvert_exporter": "python",
   "pygments_lexer": "ipython3",
   "version": "3.8.1"
  },
  "mimetype": "text/x-python",
  "name": "python",
  "npconvert_exporter": "python",
  "pygments_lexer": "ipython3",
  "version": 3
 },
 "nbformat": 4,
 "nbformat_minor": 4
}
